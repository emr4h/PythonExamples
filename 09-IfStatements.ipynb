{
 "cells": [
  {
   "cell_type": "code",
   "execution_count": 1,
   "metadata": {},
   "outputs": [
    {
     "name": "stdout",
     "output_type": "stream",
     "text": [
      "5 sayısı 2 den büyüktür\n"
     ]
    }
   ],
   "source": [
    "if 5 > 2:\n",
    "    print(\"5 sayısı 2 den büyüktür\")"
   ]
  },
  {
   "cell_type": "code",
   "execution_count": 2,
   "metadata": {},
   "outputs": [
    {
     "name": "stdout",
     "output_type": "stream",
     "text": [
      "x küçük y'den\n"
     ]
    }
   ],
   "source": [
    "x = 3\n",
    "y = 4\n",
    "if x>y:\n",
    "    print(\"x büyük y'den\")\n",
    "else:\n",
    "    print(\"x küçük y'den\")"
   ]
  },
  {
   "cell_type": "code",
   "execution_count": 3,
   "metadata": {},
   "outputs": [
    {
     "name": "stdout",
     "output_type": "stream",
     "text": [
      "Film Seçiniz: Star Wars\n",
      "ışınkılıcı\n"
     ]
    }
   ],
   "source": [
    "my_movies = input(\"Film Seçiniz: \")\n",
    "if my_movies == \"Harry Potter\":\n",
    "    print(\"dokuzüççeyrek\")\n",
    "elif my_movies == \"Star Wars\":\n",
    "    print(\"ışınkılıcı\")\n",
    "else:\n",
    "    print(\":(\")"
   ]
  },
  {
   "cell_type": "code",
   "execution_count": 4,
   "metadata": {},
   "outputs": [
    {
     "name": "stdout",
     "output_type": "stream",
     "text": [
      "Oyun devam ediyor\n"
     ]
    }
   ],
   "source": [
    "isDead = False\n",
    "if isDead:\n",
    "    print(\"Oyun bitti\")\n",
    "elif not isDead:\n",
    "    print(\"Oyun devam ediyor\")"
   ]
  },
  {
   "cell_type": "code",
   "execution_count": 5,
   "metadata": {},
   "outputs": [
    {
     "name": "stdout",
     "output_type": "stream",
     "text": [
      "true\n"
     ]
    }
   ],
   "source": [
    "my_list =[1,2,3,4,5]\n",
    "word = \"Hello friend\"\n",
    "\n",
    "if (2 in my_list) and (\"Hello\" in word):\n",
    "    print(\"true\")\n",
    "elif (100 in my_list) or (\"friend\" in word):\n",
    "    print(\"true\")\n",
    "else:\n",
    "    print(\"false\")"
   ]
  },
  {
   "cell_type": "code",
   "execution_count": null,
   "metadata": {},
   "outputs": [],
   "source": []
  }
 ],
 "metadata": {
  "kernelspec": {
   "display_name": "Python 3",
   "language": "python",
   "name": "python3"
  },
  "language_info": {
   "codemirror_mode": {
    "name": "ipython",
    "version": 3
   },
   "file_extension": ".py",
   "mimetype": "text/x-python",
   "name": "python",
   "nbconvert_exporter": "python",
   "pygments_lexer": "ipython3",
   "version": "3.8.3"
  }
 },
 "nbformat": 4,
 "nbformat_minor": 4
}
