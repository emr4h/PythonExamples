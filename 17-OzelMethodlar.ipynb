{
 "cells": [
  {
   "cell_type": "code",
   "execution_count": 1,
   "metadata": {},
   "outputs": [
    {
     "name": "stdout",
     "output_type": "stream",
     "text": [
      "<__main__.Fruits object at 0x7f81ae931310>\n"
     ]
    },
    {
     "data": {
      "text/plain": [
       "'<__main__.Fruits object at 0x7f81ae931310>'"
      ]
     },
     "execution_count": 1,
     "metadata": {},
     "output_type": "execute_result"
    }
   ],
   "source": [
    "class Fruits():\n",
    "    \n",
    "    def __init__(self,name,calories):\n",
    "        self.name = name\n",
    "        self.calories = calories\n",
    "        \n",
    "my_fruit = Fruits(\"Banana\",400)\n",
    "print(my_fruit)\n",
    "str(my_fruit) "
   ]
  },
  {
   "cell_type": "code",
   "execution_count": 2,
   "metadata": {},
   "outputs": [],
   "source": [
    "class Fruits():\n",
    "    \n",
    "    def __init__(self,name,calories):\n",
    "        self.name = name\n",
    "        self.calories = calories\n",
    "        \n",
    "    def __str__(self):\n",
    "        return f\"{self.name} has {self.calories}\"\n",
    "    "
   ]
  },
  {
   "cell_type": "code",
   "execution_count": 3,
   "metadata": {},
   "outputs": [
    {
     "name": "stdout",
     "output_type": "stream",
     "text": [
      "Banana has 400\n"
     ]
    },
    {
     "data": {
      "text/plain": [
       "'Banana has 400'"
      ]
     },
     "execution_count": 3,
     "metadata": {},
     "output_type": "execute_result"
    }
   ],
   "source": [
    "my_fruit = Fruits(\"Banana\",400)\n",
    "print(my_fruit)\n",
    "str(my_fruit)"
   ]
  },
  {
   "cell_type": "code",
   "execution_count": 5,
   "metadata": {},
   "outputs": [],
   "source": [
    "class Fruits():\n",
    "    \n",
    "    def __init__(self,name,calories):\n",
    "        self.name = name\n",
    "        self.calories = calories\n",
    "        \n",
    "    def __str__(self):\n",
    "        return f\"{self.name} has {self.calories}\"\n",
    "    \n",
    "    def __len__(self):\n",
    "        return self.calories"
   ]
  },
  {
   "cell_type": "code",
   "execution_count": 6,
   "metadata": {},
   "outputs": [],
   "source": [
    "my_fruit = Fruits(\"Banana\",400)"
   ]
  },
  {
   "cell_type": "code",
   "execution_count": 7,
   "metadata": {},
   "outputs": [
    {
     "data": {
      "text/plain": [
       "400"
      ]
     },
     "execution_count": 7,
     "metadata": {},
     "output_type": "execute_result"
    }
   ],
   "source": [
    "len(my_fruit)"
   ]
  },
  {
   "cell_type": "code",
   "execution_count": null,
   "metadata": {},
   "outputs": [],
   "source": []
  }
 ],
 "metadata": {
  "kernelspec": {
   "display_name": "Python 3",
   "language": "python",
   "name": "python3"
  },
  "language_info": {
   "codemirror_mode": {
    "name": "ipython",
    "version": 3
   },
   "file_extension": ".py",
   "mimetype": "text/x-python",
   "name": "python",
   "nbconvert_exporter": "python",
   "pygments_lexer": "ipython3",
   "version": "3.8.3"
  }
 },
 "nbformat": 4,
 "nbformat_minor": 4
}
