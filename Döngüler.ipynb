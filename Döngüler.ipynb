{
 "cells": [
  {
   "cell_type": "markdown",
   "metadata": {},
   "source": [
    "FOR\n"
   ]
  },
  {
   "cell_type": "code",
   "execution_count": 1,
   "metadata": {},
   "outputs": [],
   "source": [
    "my_list = [1,2,3,4,5]"
   ]
  },
  {
   "cell_type": "code",
   "execution_count": 2,
   "metadata": {},
   "outputs": [
    {
     "name": "stdout",
     "output_type": "stream",
     "text": [
      "5\n",
      "10\n",
      "15\n",
      "20\n",
      "25\n"
     ]
    }
   ],
   "source": [
    "for number in my_list:\n",
    "    new_number = number * 5\n",
    "    print(new_number)"
   ]
  },
  {
   "cell_type": "code",
   "execution_count": 3,
   "metadata": {},
   "outputs": [
    {
     "name": "stdout",
     "output_type": "stream",
     "text": [
      "2\n",
      "4\n"
     ]
    }
   ],
   "source": [
    "for num in my_list:\n",
    "    if num % 2 == 0:\n",
    "        print(num)"
   ]
  },
  {
   "cell_type": "code",
   "execution_count": 4,
   "metadata": {},
   "outputs": [],
   "source": [
    "movies = \"Harry Potter\""
   ]
  },
  {
   "cell_type": "code",
   "execution_count": 5,
   "metadata": {},
   "outputs": [
    {
     "name": "stdout",
     "output_type": "stream",
     "text": [
      "H\n",
      "a\n",
      "r\n",
      "r\n",
      "y\n",
      " \n",
      "P\n",
      "o\n",
      "t\n",
      "t\n",
      "e\n",
      "r\n"
     ]
    }
   ],
   "source": [
    "for letter in movies:\n",
    "    print(letter)"
   ]
  },
  {
   "cell_type": "code",
   "execution_count": 6,
   "metadata": {},
   "outputs": [],
   "source": [
    "my_new_set = {(\"a\",\"b\"),(\"c\",\"d\"),(\"e\",\"f\"),(\"g\",\"h\")}"
   ]
  },
  {
   "cell_type": "code",
   "execution_count": 7,
   "metadata": {},
   "outputs": [
    {
     "name": "stdout",
     "output_type": "stream",
     "text": [
      "c\n",
      "g\n",
      "e\n",
      "a\n"
     ]
    }
   ],
   "source": [
    "for (x,y) in my_new_set:\n",
    "    print(x)"
   ]
  },
  {
   "cell_type": "code",
   "execution_count": 19,
   "metadata": {},
   "outputs": [],
   "source": [
    "my_dict_list = {(\"a\",\"b\"),(\"c\",\"d\"),(\"e\",\"f\"),(\"g\",\"h\")}"
   ]
  },
  {
   "cell_type": "code",
   "execution_count": 22,
   "metadata": {},
   "outputs": [
    {
     "name": "stdout",
     "output_type": "stream",
     "text": [
      "[x] : c [y] : d\n",
      "[x] : g [y] : h\n",
      "[x] : e [y] : f\n",
      "[x] : a [y] : b\n"
     ]
    }
   ],
   "source": [
    "for (x,y) in my_dict_list:\n",
    "    print(\"[x] :\",x,\"[y] :\",y)"
   ]
  },
  {
   "cell_type": "code",
   "execution_count": 23,
   "metadata": {},
   "outputs": [],
   "source": [
    "my_dict = {\"key1\":100,\"key2\":200,\"key3\":300}"
   ]
  },
  {
   "cell_type": "code",
   "execution_count": 26,
   "metadata": {},
   "outputs": [
    {
     "name": "stdout",
     "output_type": "stream",
     "text": [
      "key1\n",
      "key2\n",
      "key3\n"
     ]
    }
   ],
   "source": [
    "for (key,value) in my_dict.items():\n",
    "    print(key)"
   ]
  },
  {
   "cell_type": "markdown",
   "metadata": {},
   "source": [
    "CONTİNUE,BREAK,PASS"
   ]
  },
  {
   "cell_type": "code",
   "execution_count": 28,
   "metadata": {},
   "outputs": [
    {
     "name": "stdout",
     "output_type": "stream",
     "text": [
      "10\n",
      "20\n",
      "30\n"
     ]
    }
   ],
   "source": [
    "list2 = [10,20,30,40,50]\n",
    "\n",
    "for i in list2:\n",
    "    if i == 40:\n",
    "        break\n",
    "    print(i)"
   ]
  },
  {
   "cell_type": "code",
   "execution_count": 29,
   "metadata": {},
   "outputs": [
    {
     "name": "stdout",
     "output_type": "stream",
     "text": [
      "50\n",
      "100\n",
      "150\n",
      "250\n"
     ]
    }
   ],
   "source": [
    "list2 = [10,20,30,40,50]\n",
    "\n",
    "for i in list2:\n",
    "    if i == 40:\n",
    "        continue\n",
    "    print(i*5)"
   ]
  },
  {
   "cell_type": "code",
   "execution_count": 30,
   "metadata": {},
   "outputs": [
    {
     "ename": "SyntaxError",
     "evalue": "unexpected EOF while parsing (<ipython-input-30-92260a80a916>, line 2)",
     "output_type": "error",
     "traceback": [
      "\u001b[0;36m  File \u001b[0;32m\"<ipython-input-30-92260a80a916>\"\u001b[0;36m, line \u001b[0;32m2\u001b[0m\n\u001b[0;31m    for no in list3:\u001b[0m\n\u001b[0m                    ^\u001b[0m\n\u001b[0;31mSyntaxError\u001b[0m\u001b[0;31m:\u001b[0m unexpected EOF while parsing\n"
     ]
    }
   ],
   "source": [
    "list3 = [10,2,4,70]\n",
    "for no in list3:"
   ]
  },
  {
   "cell_type": "code",
   "execution_count": 31,
   "metadata": {},
   "outputs": [],
   "source": [
    "list3 = [10,2,4,70]\n",
    "for no in list3:\n",
    "    pass"
   ]
  },
  {
   "cell_type": "code",
   "execution_count": 32,
   "metadata": {},
   "outputs": [],
   "source": [
    "#geçmiş oldu."
   ]
  },
  {
   "cell_type": "markdown",
   "metadata": {},
   "source": [
    "WHİLE DÖNGÜSÜ\n"
   ]
  },
  {
   "cell_type": "code",
   "execution_count": 35,
   "metadata": {},
   "outputs": [],
   "source": [
    "list_while = [10,5,7,90,100]"
   ]
  },
  {
   "cell_type": "code",
   "execution_count": 36,
   "metadata": {},
   "outputs": [
    {
     "name": "stdout",
     "output_type": "stream",
     "text": [
      "5 in list_while\n",
      "5 in list_while\n",
      "5 in list_while\n",
      "5 in list_while\n"
     ]
    }
   ],
   "source": [
    "while 5 in list_while:\n",
    "    print(\"5 in list_while\")\n",
    "    list_while.pop()"
   ]
  },
  {
   "cell_type": "code",
   "execution_count": 38,
   "metadata": {},
   "outputs": [],
   "source": [
    "a = 0"
   ]
  },
  {
   "cell_type": "code",
   "execution_count": 39,
   "metadata": {},
   "outputs": [
    {
     "name": "stdout",
     "output_type": "stream",
     "text": [
      "hello\n",
      "hello\n",
      "hello\n",
      "hello\n",
      "hello\n",
      "hello\n"
     ]
    }
   ],
   "source": [
    "while a <= 5:\n",
    "    print(\"hello\")\n",
    "    a += 1"
   ]
  },
  {
   "cell_type": "code",
   "execution_count": 45,
   "metadata": {},
   "outputs": [],
   "source": [
    "p = 0"
   ]
  },
  {
   "cell_type": "code",
   "execution_count": 47,
   "metadata": {},
   "outputs": [
    {
     "name": "stdout",
     "output_type": "stream",
     "text": [
      "value p : {p}\n",
      "value p : {p}\n",
      "value p : {p}\n",
      "value p : {p}\n",
      "value p : {p}\n",
      "value p : {p}\n",
      "value p : {p}\n",
      "value p : {p}\n",
      "value p : {p}\n",
      "value p : {p}\n"
     ]
    }
   ],
   "source": [
    "while p<10:\n",
    "    print(\"value p : {p}\")\n",
    "    p+=1"
   ]
  },
  {
   "cell_type": "markdown",
   "metadata": {},
   "source": [
    "yukarıdaki örnekte formatting yapıldı"
   ]
  },
  {
   "cell_type": "code",
   "execution_count": null,
   "metadata": {},
   "outputs": [],
   "source": []
  }
 ],
 "metadata": {
  "kernelspec": {
   "display_name": "Python 3",
   "language": "python",
   "name": "python3"
  },
  "language_info": {
   "codemirror_mode": {
    "name": "ipython",
    "version": 3
   },
   "file_extension": ".py",
   "mimetype": "text/x-python",
   "name": "python",
   "nbconvert_exporter": "python",
   "pygments_lexer": "ipython3",
   "version": "3.8.3"
  }
 },
 "nbformat": 4,
 "nbformat_minor": 4
}
